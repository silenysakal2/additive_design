{
 "cells": [
  {
   "cell_type": "code",
   "execution_count": 1,
   "id": "7894b10e-3138-4dea-ac0c-2ec46299fc18",
   "metadata": {},
   "outputs": [],
   "source": [
    "import numpy as np\n",
    "import scipy\n",
    "from scipy.stats import qmc\n",
    "import matplotlib.pyplot as plt\n",
    "import ctypes\n",
    "import math\n",
    "import random\n",
    "from tqdm.notebook import trange"
   ]
  },
  {
   "cell_type": "code",
   "execution_count": 2,
   "id": "c4abf642-df0c-4280-93ea-9e819f51a515",
   "metadata": {},
   "outputs": [],
   "source": [
    "from design_criteria import wd2, cl2, Mm, phip, maxPro, latinize, evaluate"
   ]
  },
  {
   "cell_type": "code",
   "execution_count": null,
   "id": "fb09924a-597f-48cc-8cf3-9f518aa6f108",
   "metadata": {},
   "outputs": [],
   "source": []
  },
  {
   "cell_type": "code",
   "execution_count": null,
   "id": "bd6b22ba-d193-4883-852e-2924c044e59e",
   "metadata": {},
   "outputs": [
    {
     "ename": "OSError",
     "evalue": "[WinError 193] %1 není platná aplikace typu Win32",
     "output_type": "error",
     "traceback": [
      "\u001b[1;31m---------------------------------------------------------------------------\u001b[0m",
      "\u001b[1;31mOSError\u001b[0m                                   Traceback (most recent call last)",
      "Cell \u001b[1;32mIn[3], line 1\u001b[0m\n\u001b[1;32m----> 1\u001b[0m cppfn \u001b[38;5;241m=\u001b[39m ctypes\u001b[38;5;241m.\u001b[39mCDLL(\u001b[38;5;124m\"\u001b[39m\u001b[38;5;124m./maxpro.so\u001b[39m\u001b[38;5;124m\"\u001b[39m)\n\u001b[0;32m      4\u001b[0m cppfn\u001b[38;5;241m.\u001b[39mmaxpro_design_meshgrid\u001b[38;5;241m.\u001b[39margtypes \u001b[38;5;241m=\u001b[39m (\n\u001b[0;32m      5\u001b[0m     ctypes\u001b[38;5;241m.\u001b[39mc_int, \u001b[38;5;66;03m# nv\u001b[39;00m\n\u001b[0;32m      6\u001b[0m     ctypes\u001b[38;5;241m.\u001b[39mc_int, \u001b[38;5;66;03m# ns\u001b[39;00m\n\u001b[1;32m   (...)\u001b[0m\n\u001b[0;32m     10\u001b[0m     ctypes\u001b[38;5;241m.\u001b[39mc_bool \u001b[38;5;66;03m# rand_sel\u001b[39;00m\n\u001b[0;32m     11\u001b[0m )\n\u001b[0;32m     12\u001b[0m cppfn\u001b[38;5;241m.\u001b[39mmaxpro_design_meshgrid\u001b[38;5;241m.\u001b[39mrestype \u001b[38;5;241m=\u001b[39m ctypes\u001b[38;5;241m.\u001b[39mPOINTER(ctypes\u001b[38;5;241m.\u001b[39mc_int)\n",
      "File \u001b[1;32mc:\\Users\\vorec\\anaconda3\\envs\\tensor\\Lib\\ctypes\\__init__.py:379\u001b[0m, in \u001b[0;36mCDLL.__init__\u001b[1;34m(self, name, mode, handle, use_errno, use_last_error, winmode)\u001b[0m\n\u001b[0;32m    376\u001b[0m \u001b[38;5;28mself\u001b[39m\u001b[38;5;241m.\u001b[39m_FuncPtr \u001b[38;5;241m=\u001b[39m _FuncPtr\n\u001b[0;32m    378\u001b[0m \u001b[38;5;28;01mif\u001b[39;00m handle \u001b[38;5;129;01mis\u001b[39;00m \u001b[38;5;28;01mNone\u001b[39;00m:\n\u001b[1;32m--> 379\u001b[0m     \u001b[38;5;28mself\u001b[39m\u001b[38;5;241m.\u001b[39m_handle \u001b[38;5;241m=\u001b[39m _dlopen(\u001b[38;5;28mself\u001b[39m\u001b[38;5;241m.\u001b[39m_name, mode)\n\u001b[0;32m    380\u001b[0m \u001b[38;5;28;01melse\u001b[39;00m:\n\u001b[0;32m    381\u001b[0m     \u001b[38;5;28mself\u001b[39m\u001b[38;5;241m.\u001b[39m_handle \u001b[38;5;241m=\u001b[39m handle\n",
      "\u001b[1;31mOSError\u001b[0m: [WinError 193] %1 není platná aplikace typu Win32"
     ]
    }
   ],
   "source": [
    "import ctypes\n",
    "import platform\n",
    "\n",
    "lib_name = \"./maxpro.dll\" if platform.system() == \"Windows\" else \"./maxpro.so\"\n",
    "cppfn = ctypes.CDLL(lib_name)\n",
    "\n",
    "\n",
    "cppfn.maxpro_design_meshgrid.argtypes = (\n",
    "    ctypes.c_int, # nv\n",
    "    ctypes.c_int, # ns\n",
    "    ctypes.c_int, # seed\n",
    "    ctypes.c_bool, # periodic\n",
    "    ctypes.c_bool, # rand_ini\n",
    "    ctypes.c_bool # rand_sel\n",
    ")\n",
    "cppfn.maxpro_design_meshgrid.restype = ctypes.POINTER(ctypes.c_int)\n",
    "\n",
    "def maxpro_design_meshgrid(nv, ns, seed = None, periodic = True, rand_ini = True, rand_sel = True):\n",
    "    global cppfn\n",
    "    pointer = cppfn.maxpro_design_meshgrid(nv, ns, random.randrange(2 ** 31) if seed == None else seed, periodic, rand_ini, rand_sel)\n",
    "    return np.ctypeslib.as_array(pointer, (ns, nv))\n",
    "\n",
    "\n",
    "cppfn.gen_design_candidates.argtypes = (\n",
    "    ctypes.c_char, # crit\n",
    "    ctypes.c_int, # nv\n",
    "    ctypes.c_int, # ns\n",
    "    ctypes.c_longlong, # candidate_count\n",
    "    ctypes.POINTER(ctypes.c_double), # candidates\n",
    "    ctypes.c_int, # seed\n",
    "    ctypes.c_bool, # periodic\n",
    "    ctypes.c_bool # rand_sel\n",
    ")\n",
    "\n",
    "def gen_design_candidates(crit, nv, ns, seed = None, candidate_count = None, candidate_method = \"monte-carlo\", periodic = True, rand_sel = True):\n",
    "    global cppfn\n",
    "    if candidate_count == None: # Auto\n",
    "        #candidate_count = min(16 ** nv * ns, 1024 ** 3 // nv) # 8 GB RAM limit for candidates\n",
    "        candidate_count = min(10000 * ns, 1024 ** 3 // nv) # 8 GB RAM limit for candidates\n",
    "    match candidate_method:\n",
    "        case \"monte-carlo\":\n",
    "            candidates = np.ascontiguousarray(np.random.rand(candidate_count, nv))\n",
    "        case \"meshgriddy\":\n",
    "            candidate_count = ns ** nv\n",
    "            candidates = np.empty([ns] * nv + [nv])\n",
    "            for v in range(nv):\n",
    "                candidates[tuple(([slice(None)] * nv) + [v])] = ((np.arange(ns) + 0.5) / ns)[tuple(([np.newaxis] * v) + [slice(None)] + ([np.newaxis] * (nv - v - 1)))]\n",
    "            candidates.shape = [ns ** nv, nv]\n",
    "            candidates = np.ascontiguousarray(candidates)\n",
    "        case default:\n",
    "            raise ValueError(\"Unknown candidate method: \\\"\" + candidate_method + \"\\\"\")\n",
    "    match crit:\n",
    "        case \"maxpro\":\n",
    "            cppfn.gen_design_candidates(b'm', nv, ns, candidate_count, candidates.ctypes.data_as(ctypes.POINTER(ctypes.c_double)), random.randrange(2 ** 31) if seed == None else seed, periodic, rand_sel)\n",
    "        case \"phim\":\n",
    "            cppfn.gen_design_candidates(b'p', nv, ns, candidate_count, candidates.ctypes.data_as(ctypes.POINTER(ctypes.c_double)), random.randrange(2 ** 31) if seed == None else seed, periodic, rand_sel)\n",
    "        case \"maximin\":\n",
    "            cppfn.gen_design_candidates(b'M', nv, ns, candidate_count, candidates.ctypes.data_as(ctypes.POINTER(ctypes.c_double)), random.randrange(2 ** 31) if seed == None else seed, periodic, rand_sel)\n",
    "    return candidates[:ns, :]"
   ]
  },
  {
   "cell_type": "code",
   "execution_count": 44,
   "id": "e8aa708d-275c-4df5-b238-52d77fe12801",
   "metadata": {},
   "outputs": [],
   "source": [
    "nv = 4\n",
    "ns = 64\n",
    "\n",
    "\n",
    "# Additive designs\n",
    "periodic = True\n",
    "rand_ini = True\n",
    "rand_sel = False\n",
    "\n",
    "# qmc\n",
    "scramble = False "
   ]
  },
  {
   "cell_type": "code",
   "execution_count": 45,
   "id": "28433cdb-10af-41ea-af6f-7cadd673a3b7",
   "metadata": {},
   "outputs": [],
   "source": [
    "class Design:\n",
    "    name: str\n",
    "    points: np.ndarray\n",
    "    maxpro: float\n",
    "    umaxpro: float\n",
    "    maximin_nper: float\n",
    "    maximin: float\n",
    "    discr: float\n",
    "    phip: float\n",
    "    pphip: float\n",
    "    wd2: float\n",
    "    cl2: float\n",
    "\n",
    "    def comp_stats(self):\n",
    "        self.maxpro = maxPro(self.points, False)\n",
    "        self.umaxpro = maxPro(self.points, True)\n",
    "        self.maximin = Mm(self.points, False)\n",
    "        self.pmaximin = Mm(self.points, True)\n",
    "        self.phip = phip(self.points, False)\n",
    "        self.pphip = phip(self.points, True)\n",
    "        self.wd2 = wd2(self.points)\n",
    "        self.cl2 = cl2(self.points)\n",
    "        self.mdiscr = scipy.stats.qmc.discrepancy(self.points, method='MD' ) \n",
    "        self.l2stardiscr = scipy.stats.qmc.discrepancy(self.points, method='L2-star' ) \n",
    "        #CD: Centered Discrepancy - subspace involves a corner of the hypercube\n",
    "        #WD: Wrap-around Discrepancy - subspace can wrap around bounds\n",
    "        #MD: Mixture Discrepancy - mix between CD/WD covering more criteria\n",
    "        #L2-star: L2-star discrepancy - like CD BUT variant to rotatio\n",
    "\n",
    "    def __init__(self, points, name):\n",
    "        self.name = name\n",
    "        self.points = points\n",
    "        self.comp_stats()\n",
    "\n",
    "METHODS = [\n",
    "    \"as_maxpro\", # Adaptive sampling; already latinized\n",
    "    \"as_phim\",\n",
    "    \"as_maximin\",\n",
    "    \"mg_maxpro\", # Meshgrid\n",
    "    \"qmc_sobol\", # Quasi Monte Carlo; already latinized\n",
    "    \"qmc_halton\"\n",
    "]\n",
    "\n",
    "designs = dict()"
   ]
  },
  {
   "cell_type": "code",
   "execution_count": 46,
   "id": "8c48a040-a182-42e3-9895-7d888675028f",
   "metadata": {},
   "outputs": [
    {
     "name": "stdout",
     "output_type": "stream",
     "text": [
      "CPU times: user 2.92 s, sys: 60 ms, total: 2.98 s\n",
      "Wall time: 2.98 s\n"
     ]
    }
   ],
   "source": [
    "%%time\n",
    "designs[\"mg_maxpro\"] = Design(\n",
    "    (maxpro_design_meshgrid(nv, ns, periodic = periodic, rand_ini = rand_ini, rand_sel = rand_sel).astype(float) + 0.5) / ns,\n",
    "    \"mg_maxpro\"\n",
    ")"
   ]
  },
  {
   "cell_type": "code",
   "execution_count": 47,
   "id": "5b00a8c8-c32f-4250-a755-bc3b754663b5",
   "metadata": {},
   "outputs": [
    {
     "name": "stdout",
     "output_type": "stream",
     "text": [
      "CPU times: user 1.37 s, sys: 4 ms, total: 1.38 s\n",
      "Wall time: 1.38 s\n"
     ]
    }
   ],
   "source": [
    "%%time\n",
    "designs[\"as_maxpro\"] = Design(\n",
    "    latinize(gen_design_candidates(\"maxpro\", nv, ns, candidate_method = \"monte-carlo\", periodic = periodic, rand_sel = rand_sel)),\n",
    "    \"as_maxpro\",\n",
    ")"
   ]
  },
  {
   "cell_type": "code",
   "execution_count": 48,
   "id": "72a7d43a-2289-45da-80ec-507ab71728e1",
   "metadata": {},
   "outputs": [
    {
     "name": "stdout",
     "output_type": "stream",
     "text": [
      "CPU times: user 1.62 s, sys: 5 ms, total: 1.62 s\n",
      "Wall time: 1.62 s\n"
     ]
    }
   ],
   "source": [
    "%%time\n",
    "designs[\"as_phim\"] = Design(\n",
    "    latinize(gen_design_candidates(\"phim\", nv, ns, candidate_method = \"monte-carlo\", periodic = periodic, rand_sel = rand_sel)),\n",
    "    \"as_maxpro\",\n",
    ")"
   ]
  },
  {
   "cell_type": "code",
   "execution_count": 49,
   "id": "6fcaeb72-2061-4d16-910d-c64d7a1703f1",
   "metadata": {},
   "outputs": [
    {
     "name": "stdout",
     "output_type": "stream",
     "text": [
      "CPU times: user 1.48 s, sys: 0 ns, total: 1.48 s\n",
      "Wall time: 1.48 s\n"
     ]
    }
   ],
   "source": [
    "%%time\n",
    "designs[\"as_maximin\"] = Design(\n",
    "    (gen_design_candidates(\"maximin\", nv, ns, candidate_method = \"monte-carlo\", periodic = periodic, rand_sel = rand_sel)),\n",
    "    \"as_maxpro\",\n",
    ")"
   ]
  },
  {
   "cell_type": "code",
   "execution_count": 50,
   "id": "01e8737d-52a9-4a88-9080-327e5a58f8ae",
   "metadata": {},
   "outputs": [
    {
     "name": "stdout",
     "output_type": "stream",
     "text": [
      "CPU times: user 3.18 ms, sys: 998 μs, total: 4.18 ms\n",
      "Wall time: 3.44 ms\n"
     ]
    }
   ],
   "source": [
    "%%time\n",
    "sobol_sampler = qmc.Sobol(d = nv, scramble = scramble)\n",
    "sobol_points = sobol_sampler.random(ns)\n",
    "sobol_points -= sobol_points.min()\n",
    "sobol_points += 0.5 * (1 - sobol_points.max())\n",
    "designs[\"qmc_sobol\"] = Design(latinize(sobol_points), \"qmc_sobol\")"
   ]
  },
  {
   "cell_type": "code",
   "execution_count": 51,
   "id": "d475f684-6ac2-418b-8d34-bbeab94bf005",
   "metadata": {},
   "outputs": [
    {
     "name": "stdout",
     "output_type": "stream",
     "text": [
      "CPU times: user 2.06 ms, sys: 998 μs, total: 3.06 ms\n",
      "Wall time: 2.9 ms\n"
     ]
    }
   ],
   "source": [
    "%%time\n",
    "halton_sampler = qmc.Halton(d = nv, scramble = scramble)\n",
    "halton_points = halton_sampler.random(ns)\n",
    "halton_points -= halton_points.min()\n",
    "halton_points += 0.5 * (1 - halton_points.max())\n",
    "designs[\"qmc_halton\"] = Design(latinize(halton_points), \"qmc_halton\")"
   ]
  },
  {
   "cell_type": "code",
   "execution_count": 52,
   "id": "e117e22f-c64d-47cd-b6ec-523082c5bc7b",
   "metadata": {},
   "outputs": [
    {
     "name": "stdout",
     "output_type": "stream",
     "text": [
      "+------------------------+------------------------+------------------------+------------------------+------------------------+------------------------+------------------------+------------------------+------------------------+------------------------+\n",
      "| name                   | MaxPro                 | uMaxPro                | maximin                | pmaximin               | mixed discrepancy      | phip                   | pphip                  | cl2                    | wd2                    |\n",
      "===========================================================================================================================================================================================================================================================\n",
      "| as_maxpro              | 1.0                    | 1.0                    | 1.5902203913142547     | 1.5902203913142547     | 1.2188895670060191     | 1.2039713634902265     | 1.1995480682044652     | 1.6209157930043403     | 1.0                    |\n",
      "+------------------------+------------------------+------------------------+------------------------+------------------------+------------------------+------------------------+------------------------+------------------------+------------------------+\n",
      "| as_phim                | 27.789588970395624     | 19.171436662432118     | 1.520780285237102      | 1.520780285237102      | 1.99210947188798       | 1.060065643466449      | 1.11582106973052       | 2.755454289006358      | 1.5491319970673834     |\n",
      "+------------------------+------------------------+------------------------+------------------------+------------------------+------------------------+------------------------+------------------------+------------------------+------------------------+\n",
      "| as_maximin             | 13644808763.11818      | 7533220411.114259      | 1.0                    | 1.0                    | 42.08329081970995      | 1.0                    | 1.0                    | 36.05135440360413      | 31.654230368486644     |\n",
      "+------------------------+------------------------+------------------------+------------------------+------------------------+------------------------+------------------------+------------------------+------------------------+------------------------+\n",
      "| mg_maxpro              | 1.1201233821891379     | 1.0033531902155906     | 1.524615802766873      | 1.524615802766873      | 1.25433551465262       | 1.2924624704985863     | 1.2883563017894057     | 1.6813832011113574     | 1.0471143881142002     |\n",
      "+------------------------+------------------------+------------------------+------------------------+------------------------+------------------------+------------------------+------------------------+------------------------+------------------------+\n",
      "| qmc_sobol              | 2.3245554086325546     | 2.365936548893043      | 1.7176343349047272     | 1.7176343349047272     | 1.0                    | 1.387955895314417      | 1.3257607735609203     | 1.0                    | 1.0392692839792246     |\n",
      "+------------------------+------------------------+------------------------+------------------------+------------------------+------------------------+------------------------+------------------------+------------------------+------------------------+\n",
      "| qmc_halton             | 13.607382827633655     | 8.4539138072155        | 2.326931234650181      | 2.326931234650181      | 1.1250523828425387     | 2.9519239201126513     | 2.284214299850896      | 1.198979215671889      | 1.1467624268455203     |\n",
      "+------------------------+------------------------+------------------------+------------------------+------------------------+------------------------+------------------------+------------------------+------------------------+------------------------+\n",
      "\n",
      "\n",
      "\n",
      "\n",
      "\n",
      "+------------------------+------------------------+------------------------+------------------------+------------------------+------------------------+------------------------+------------------------+------------------------+------------------------+\n",
      "| name                   | MaxPro                 | uMaxPro                | maximin                | pmaximin               | mixed discrepancy      | phip                   | pphip                  | cl2                    | wd2                    |\n",
      "===========================================================================================================================================================================================================================================================\n",
      "| as_maxpro              | 2360034.0508720526     | 4489975.952231918      | 0.21079277442550065    | 0.21079277442550065    | 0.0033939093488317695  | 26.540509936720998     | 50.677617303951834     | 0.0015362157151672662  | 0.0024658808720214864  |\n",
      "+------------------------+------------------------+------------------------+------------------------+------------------------+------------------------+------------------------+------------------------+------------------------+------------------------+\n",
      "| as_phim                | 65584376.22987209      | 86079289.58405755      | 0.22041774968227945    | 0.22041774968227945    | 0.005546883937274316   | 23.36823249885064      | 47.14038115715666      | 0.0026114695158536705  | 0.003819974959804906   |\n",
      "+------------------------+------------------------+------------------------+------------------------+------------------------+------------------------+------------------------+------------------------+------------------------+------------------------+\n",
      "| as_maximin             | 3.2202213298596276e+16 | 3.3823978488765668e+16 | 0.33520696823313706    | 0.33520696823313706    | 0.11717786254701323    | 22.044137212518052     | 42.24725848611324      | 0.034167510383269484   | 0.07805556118421286    |\n",
      "+------------------------+------------------------+------------------------+------------------------+------------------------+------------------------+------------------------+------------------------+------------------------+------------------------+\n",
      "| mg_maxpro              | 2643529.3231443353     | 4505031.695663179      | 0.21986323874172325    | 0.21986323874172325    | 0.003492606012050814   | 28.491220041700902     | 54.42952170390994      | 0.0015935234315769264  | 0.0025820593404692893  |\n",
      "+------------------------+------------------------+------------------------+------------------------+------------------------+------------------------+------------------------+------------------------+------------------------+------------------------+\n",
      "| qmc_sobol              | 5486029.917511627      | 10622998.20903634      | 0.19515618744994995    | 0.19515618744994995    | 0.0027844272694599326  | 30.596290201234353     | 56.00975809137764      | 0.0009477455410067392  | 0.002562714248243836   |\n",
      "+------------------------+------------------------+------------------------+------------------------+------------------------+------------------------+------------------------+------------------------+------------------------+------------------------+\n",
      "| qmc_halton             | 32113886.81646706      | 37957869.69663898      | 0.14405538214520136    | 0.14405538214520136    | 0.003132626534357641   | 65.07261593587747      | 96.50179196347698      | 0.0011363272054127904  | 0.0028277795331113076  |\n",
      "+------------------------+------------------------+------------------------+------------------------+------------------------+------------------------+------------------------+------------------------+------------------------+------------------------+\n"
     ]
    }
   ],
   "source": [
    "best_maxpro = math.inf\n",
    "best_umaxpro = math.inf\n",
    "best_maximin = 0\n",
    "best_pmaximin = 0\n",
    "best_mdiscr = math.inf\n",
    "best_phip = math.inf\n",
    "best_pphip = math.inf\n",
    "best_cl2 = math.inf\n",
    "best_wd2 = math.inf\n",
    "\n",
    "for method in METHODS:\n",
    "    best_maxpro = min(best_maxpro, designs[method].maxpro)\n",
    "    best_umaxpro = min(best_umaxpro, designs[method].umaxpro)\n",
    "    best_maximin = max(best_maximin, designs[method].maximin)\n",
    "    best_pmaximin = max(best_pmaximin, designs[method].pmaximin)\n",
    "    best_mdiscr = min(best_mdiscr, designs[method].mdiscr)\n",
    "    best_phip = min(best_phip, designs[method].phip)\n",
    "    best_pphip = min(best_pphip, designs[method].pphip)\n",
    "    best_cl2 = min(best_cl2, designs[method].cl2)\n",
    "    best_wd2 = min(best_wd2, designs[method].wd2)\n",
    "\n",
    "CELL_WIDTH = 25\n",
    "print(((\"+\" + (\"-\" * (CELL_WIDTH-1))) * 10) + \"+\")\n",
    "print(\"| name\\t| MaxPro\\t| uMaxPro\\t| maximin\\t| pmaximin\\t| mixed discrepancy\\t| phip\\t| pphip\\t| cl2\\t| wd2\\t|\".expandtabs(CELL_WIDTH))\n",
    "print(\"=\" * CELL_WIDTH * 10 + \"=\")\n",
    "for i, method in enumerate(METHODS):\n",
    "    print((\n",
    "        \"| \" +\n",
    "        method +\n",
    "        \"\\t| \" +\n",
    "        str(designs[method].maxpro / best_maxpro) +\n",
    "        \"\\t| \" +\n",
    "        str(designs[method].umaxpro / best_umaxpro) +\n",
    "        \"\\t| \" +\n",
    "        str(best_maximin / designs[method].maximin) +\n",
    "        \"\\t| \" +\n",
    "        str(best_pmaximin / designs[method].pmaximin) +\n",
    "        \"\\t| \" +\n",
    "        str(designs[method].mdiscr / best_mdiscr) +\n",
    "        \"\\t| \" +\n",
    "        str(designs[method].phip / best_phip) +\n",
    "        \"\\t| \" +\n",
    "        str(designs[method].pphip / best_pphip) +\n",
    "        \"\\t| \" +\n",
    "        str(designs[method].cl2 / best_cl2) +\n",
    "        \"\\t| \" +\n",
    "        str(designs[method].wd2 / best_wd2) +\n",
    "        \"\\t|\"\n",
    "    ).expandtabs(CELL_WIDTH))\n",
    "    print(((\"+\" + (\"-\" * (CELL_WIDTH-1))) * 10) + \"+\")\n",
    "\n",
    "print(\"\\n\\n\\n\\n\")\n",
    "    \n",
    "print(((\"+\" + (\"-\" * (CELL_WIDTH-1))) * 10) + \"+\")\n",
    "print(\"| name\\t| MaxPro\\t| uMaxPro\\t| maximin\\t| pmaximin\\t| mixed discrepancy\\t| phip\\t| pphip\\t| cl2\\t| wd2\\t|\".expandtabs(CELL_WIDTH))\n",
    "print(\"=\" * CELL_WIDTH * 10 + \"=\")\n",
    "for i, method in enumerate(METHODS):\n",
    "    print((\n",
    "        \"| \" +\n",
    "        method +\n",
    "        \"\\t| \" +\n",
    "        str(designs[method].maxpro) +\n",
    "        \"\\t| \" +\n",
    "        str(designs[method].umaxpro) +\n",
    "        \"\\t| \" +\n",
    "        str(designs[method].maximin) +\n",
    "        \"\\t| \" +\n",
    "        str(designs[method].pmaximin) +\n",
    "        \"\\t| \" +\n",
    "        str(designs[method].mdiscr) +\n",
    "        \"\\t| \" +\n",
    "        str(designs[method].phip) +\n",
    "        \"\\t| \" +\n",
    "        str(designs[method].pphip) +\n",
    "        \"\\t| \" +\n",
    "        str(designs[method].cl2) +\n",
    "        \"\\t| \" +\n",
    "        str(designs[method].wd2) +\n",
    "        \"\\t|\"\n",
    "    ).expandtabs(CELL_WIDTH))\n",
    "    print(((\"+\" + (\"-\" * (CELL_WIDTH-1))) * 10) + \"+\")"
   ]
  },
  {
   "cell_type": "code",
   "execution_count": 53,
   "id": "e55b72f2-032b-4439-b9db-ec6d2c49f527",
   "metadata": {},
   "outputs": [
    {
     "data": {
      "image/png": "[encoded data removed]",
      "text/plain": [
       "<Figure size 800x1200 with 6 Axes>"
      ]
     },
     "metadata": {},
     "output_type": "display_data"
    }
   ],
   "source": [
    "import matplotlib.pyplot as plt\n",
    "import numpy as np\n",
    "import math\n",
    "\n",
    "def plot_des(ax, des, name, color='k', alpha=1):\n",
    "    ax.scatter(des[:, -2], des[:, -1], color=color, alpha=alpha)\n",
    "    ax.scatter(des[0, -2], des[0, -1], color=\"red\", alpha=alpha)\n",
    "    ax.set_xlim(0, 1)\n",
    "    ax.set_ylim(0, 1)\n",
    "    ax.set_aspect('equal')\n",
    "    ax.set_title(name, fontsize=10, pad=2)\n",
    "    \n",
    "    tick_length = 0.005\n",
    "    for x in des[:, 0]:\n",
    "        ax.plot([x, x], [0, tick_length], color='black', linewidth=0.5, alpha=alpha)\n",
    "    for y in des[:, 1]:\n",
    "        ax.plot([0, tick_length], [y, y], color='black', linewidth=0.5, alpha=alpha)\n",
    "\n",
    "# Calculate layout\n",
    "num_designs = len(designs)\n",
    "cols = 2\n",
    "rows = math.ceil(num_designs / cols)\n",
    "\n",
    "fig, axs = plt.subplots(\n",
    "    rows, cols, figsize=(4 * cols, 4 * rows),\n",
    "    gridspec_kw=dict(wspace=0.05, hspace=0.15)  # Tight spacing\n",
    ")\n",
    "axs = axs.flatten()\n",
    "\n",
    "\n",
    "for pts in range (ns,ns+1):\n",
    "    for i, (name, design) in enumerate(designs.items()):\n",
    "        plot_des(axs[i], design.points[:pts,:], name)\n",
    "\n",
    "    # Turn off any unused axes\n",
    "    for j in range(i + 1, len(axs)):\n",
    "        axs[j].axis('off')\n",
    "    \n",
    "    plt.subplots_adjust(left=0.01, right=0.99, top=0.95, bottom=0.05)\n",
    "    plt.show()\n",
    "\n"
   ]
  },
  {
   "cell_type": "code",
   "execution_count": 43,
   "id": "3080dfd5-7c93-4bee-98a5-7fdda4353ef2",
   "metadata": {},
   "outputs": [
    {
     "data": {
      "application/vnd.jupyter.widget-view+json": {
       "model_id": "200986f114aa4e4b9c4cca26b5c92bc0",
       "version_major": 2,
       "version_minor": 0
      },
      "text/plain": [
       "  0%|          | 0/100000 [00:00<?, ?it/s]"
      ]
     },
     "metadata": {},
     "output_type": "display_data"
    },
    {
     "ename": "KeyboardInterrupt",
     "evalue": "",
     "output_type": "error",
     "traceback": [
      "\u001b[31m---------------------------------------------------------------------------\u001b[39m",
      "\u001b[31mKeyboardInterrupt\u001b[39m                         Traceback (most recent call last)",
      "\u001b[36mCell\u001b[39m\u001b[36m \u001b[39m\u001b[32mIn[43]\u001b[39m\u001b[32m, line 4\u001b[39m\n\u001b[32m      2\u001b[39m hist = np.zeros([ns] * nv, dtype=\u001b[38;5;28mint\u001b[39m)\n\u001b[32m      3\u001b[39m \u001b[38;5;28;01mfor\u001b[39;00m i \u001b[38;5;129;01min\u001b[39;00m trange(nr):\n\u001b[32m----> \u001b[39m\u001b[32m4\u001b[39m     des = \u001b[43mmaxpro_design_meshgrid\u001b[49m\u001b[43m(\u001b[49m\u001b[43mnv\u001b[49m\u001b[43m,\u001b[49m\u001b[43m \u001b[49m\u001b[43mns\u001b[49m\u001b[43m,\u001b[49m\u001b[43m \u001b[49m\u001b[43mseed\u001b[49m\u001b[43m=\u001b[49m\u001b[43mi\u001b[49m\u001b[43m,\u001b[49m\u001b[43m \u001b[49m\u001b[43mperiodic\u001b[49m\u001b[43m \u001b[49m\u001b[43m=\u001b[49m\u001b[43m \u001b[49m\u001b[43mperiodic\u001b[49m\u001b[43m,\u001b[49m\u001b[43m \u001b[49m\u001b[43mrand_ini\u001b[49m\u001b[43m \u001b[49m\u001b[43m=\u001b[49m\u001b[43m \u001b[49m\u001b[43mrand_ini\u001b[49m\u001b[43m,\u001b[49m\u001b[43m \u001b[49m\u001b[43mrand_sel\u001b[49m\u001b[43m \u001b[49m\u001b[43m=\u001b[49m\u001b[43m \u001b[49m\u001b[43mrand_sel\u001b[49m\u001b[43m)\u001b[49m\n\u001b[32m      5\u001b[39m     np.add.at(hist, (des[:, \u001b[32m0\u001b[39m], des[:, \u001b[32m1\u001b[39m]), \u001b[32m1\u001b[39m)\n",
      "\u001b[36mCell\u001b[39m\u001b[36m \u001b[39m\u001b[32mIn[3]\u001b[39m\u001b[32m, line 16\u001b[39m, in \u001b[36mmaxpro_design_meshgrid\u001b[39m\u001b[34m(nv, ns, seed, periodic, rand_ini, rand_sel)\u001b[39m\n\u001b[32m     14\u001b[39m \u001b[38;5;28;01mdef\u001b[39;00m\u001b[38;5;250m \u001b[39m\u001b[34mmaxpro_design_meshgrid\u001b[39m(nv, ns, seed = \u001b[38;5;28;01mNone\u001b[39;00m, periodic = \u001b[38;5;28;01mTrue\u001b[39;00m, rand_ini = \u001b[38;5;28;01mTrue\u001b[39;00m, rand_sel = \u001b[38;5;28;01mTrue\u001b[39;00m):\n\u001b[32m     15\u001b[39m     \u001b[38;5;28;01mglobal\u001b[39;00m cppfn\n\u001b[32m---> \u001b[39m\u001b[32m16\u001b[39m     pointer = \u001b[43mcppfn\u001b[49m\u001b[43m.\u001b[49m\u001b[43mmaxpro_design_meshgrid\u001b[49m\u001b[43m(\u001b[49m\u001b[43mnv\u001b[49m\u001b[43m,\u001b[49m\u001b[43m \u001b[49m\u001b[43mns\u001b[49m\u001b[43m,\u001b[49m\u001b[43m \u001b[49m\u001b[43mrandom\u001b[49m\u001b[43m.\u001b[49m\u001b[43mrandrange\u001b[49m\u001b[43m(\u001b[49m\u001b[32;43m2\u001b[39;49m\u001b[43m \u001b[49m\u001b[43m*\u001b[49m\u001b[43m*\u001b[49m\u001b[43m \u001b[49m\u001b[32;43m31\u001b[39;49m\u001b[43m)\u001b[49m\u001b[43m \u001b[49m\u001b[38;5;28;43;01mif\u001b[39;49;00m\u001b[43m \u001b[49m\u001b[43mseed\u001b[49m\u001b[43m \u001b[49m\u001b[43m==\u001b[49m\u001b[43m \u001b[49m\u001b[38;5;28;43;01mNone\u001b[39;49;00m\u001b[43m \u001b[49m\u001b[38;5;28;43;01melse\u001b[39;49;00m\u001b[43m \u001b[49m\u001b[43mseed\u001b[49m\u001b[43m,\u001b[49m\u001b[43m \u001b[49m\u001b[43mperiodic\u001b[49m\u001b[43m,\u001b[49m\u001b[43m \u001b[49m\u001b[43mrand_ini\u001b[49m\u001b[43m,\u001b[49m\u001b[43m \u001b[49m\u001b[43mrand_sel\u001b[49m\u001b[43m)\u001b[49m\n\u001b[32m     17\u001b[39m     \u001b[38;5;28;01mreturn\u001b[39;00m np.ctypeslib.as_array(pointer, (ns, nv))\n",
      "\u001b[31mKeyboardInterrupt\u001b[39m: "
     ]
    }
   ],
   "source": [
    "nr = 100000\n",
    "hist = np.zeros([ns] * nv, dtype=int)\n",
    "for i in trange(nr):\n",
    "    des = maxpro_design_meshgrid(nv, ns, seed=i, periodic = periodic, rand_ini = rand_ini, rand_sel = rand_sel)\n",
    "    np.add.at(hist, (des[:, 0], des[:, 1]), 1)"
   ]
  },
  {
   "cell_type": "code",
   "execution_count": 35,
   "id": "bc6e6a31-49c5-4775-bd0e-3f3864720efd",
   "metadata": {},
   "outputs": [
    {
     "data": {
      "text/plain": [
       "array([[1672, 1644, 1650, ..., 1553, 1489, 1462],\n",
       "       [1582, 1564, 1561, ..., 1504, 1409, 1506],\n",
       "       [1754, 1623, 1689, ..., 1554, 1545, 1597],\n",
       "       ...,\n",
       "       [1393, 1521, 1443, ..., 1656, 1617, 1532],\n",
       "       [1508, 1506, 1526, ..., 1658, 1694, 1596],\n",
       "       [1507, 1540, 1430, ..., 1630, 1596, 1640]])"
      ]
     },
     "execution_count": 35,
     "metadata": {},
     "output_type": "execute_result"
    }
   ],
   "source": [
    "hist"
   ]
  },
  {
   "cell_type": "code",
   "execution_count": null,
   "id": "434715ea-6699-4ee8-bd72-0ef8475e6514",
   "metadata": {},
   "outputs": [],
   "source": []
  },
  {
   "cell_type": "code",
   "execution_count": 36,
   "id": "fafdd661-500c-45c8-80d4-dbaa7eb71c61",
   "metadata": {
    "scrolled": true
   },
   "outputs": [
    {
     "data": {
      "text/plain": [
       "array([[1.07008, 1.05216, 1.056  , ..., 0.99392, 0.95296, 0.93568],\n",
       "       [1.01248, 1.00096, 0.99904, ..., 0.96256, 0.90176, 0.96384],\n",
       "       [1.12256, 1.03872, 1.08096, ..., 0.99456, 0.9888 , 1.02208],\n",
       "       ...,\n",
       "       [0.89152, 0.97344, 0.92352, ..., 1.05984, 1.03488, 0.98048],\n",
       "       [0.96512, 0.96384, 0.97664, ..., 1.06112, 1.08416, 1.02144],\n",
       "       [0.96448, 0.9856 , 0.9152 , ..., 1.0432 , 1.02144, 1.0496 ]])"
      ]
     },
     "execution_count": 36,
     "metadata": {},
     "output_type": "execute_result"
    }
   ],
   "source": [
    "hist2 = hist.astype(float) / nr * ns\n",
    "hist2"
   ]
  },
  {
   "cell_type": "code",
   "execution_count": 37,
   "id": "67d3c117-5f9b-4d0e-871c-cece7bf2c9ec",
   "metadata": {},
   "outputs": [
    {
     "name": "stdout",
     "output_type": "stream",
     "text": [
      "Check that the no of data in bins 6400000 matches the number of points 6400000\n",
      "\n",
      "\n",
      "Now the symmetrized histogram construction\n",
      "Design count incerased  8  times from  100000  to  800000\n",
      "Check that the no of data in bins 51200000 matches the number of points 51200000\n",
      "\n",
      "\n",
      "Minimum density: 0.70528,  maximum density: 1.31264, stdev of density: 0.10122471832512057\n"
     ]
    }
   ],
   "source": [
    "symmetrize = True # to generate the additional designs from the existing ones\n",
    "\n",
    "n_des = nr #number of designes packed into x_opt_all\n",
    "\n",
    "\n",
    "freq = hist\n",
    "\n",
    "print(f\"Check that the no of data in bins {np.sum(freq)} matches the number of points {n_des*ns}\\n\")\n",
    "print(f\"\\nNow the symmetrized histogram construction\")\n",
    "\n",
    "design_count_multiplier = 1\n",
    "freq_s = freq.copy() # Stands for frequencies symmetrized (identical to `freq` if not symmetrizing)\n",
    "if symmetrize:\n",
    "    # Account for reordering the axes\n",
    "    for set_v in range(nv - 1): # Note that this trange is going to speed up over time\n",
    "        freq_copy = np.copy(freq_s) # Add to the `freq_s` array; this is for a reference to get all the distinct transposed versions of the original\n",
    "        transpose_indices = list(range(nv))\n",
    "        for swapped_v in range(set_v + 1, nv): # You would normally go from `set_v` + 0, but I am adding to an array equivalent to `swapped_v` = `set_v`\n",
    "            transpose_indices[set_v], transpose_indices[swapped_v] = swapped_v, set_v\n",
    "            freq_s += np.transpose(freq_copy, tuple(transpose_indices))\n",
    "            transpose_indices[swapped_v] = swapped_v # Cleanup for next loop run\n",
    "    \n",
    "    # Mirror about every axis\n",
    "    for v in range(nv):\n",
    "        freq_s += np.flip(freq_s, axis=v)\n",
    "\n",
    "\n",
    "    design_count_multiplier = (2 ** nv) * math.factorial(nv)\n",
    "    print(\"Design count incerased \", design_count_multiplier,\" times from \",n_des, \" to \", n_des * design_count_multiplier)\n",
    "    \n",
    "    print(f\"Check that the no of data in bins {np.sum(freq_s)} matches the number of points {n_des*ns*design_count_multiplier}\")\n",
    "\n",
    "# Recompute frequencies into relative freq (ave density)\n",
    "histogram = freq * ((ns ** (nv-1)) / n_des)\n",
    "histogram_s = freq_s * ((ns ** (nv-1)) / n_des / design_count_multiplier)\n",
    "\n",
    "print(f\"\\n\")\n",
    "print(f\"Minimum density: {histogram.min()},  maximum density: {histogram.max()}, stdev of density: {histogram.std()}\")\n",
    "\n",
    "\n",
    "\n",
    "     "
   ]
  },
  {
   "cell_type": "code",
   "execution_count": 38,
   "id": "88949115-3992-4a77-bb58-1012d6be71a5",
   "metadata": {},
   "outputs": [
    {
     "data": {
      "image/png": "[encoded data removed]",
      "text/plain": [
       "<Figure size 1600x1600 with 1 Axes>"
      ]
     },
     "metadata": {},
     "output_type": "display_data"
    }
   ],
   "source": [
    "fig, ax = plt.subplots(figsize=(16, 16))\n",
    "\n",
    "vmin, vmax = 0, 5\n",
    "\n",
    "if periodic:\n",
    "    vmin, vmax = 0.9, 1.1\n",
    "    \n",
    "ax.matshow(histogram_s, vmin=vmin, vmax=vmax)\n",
    "\n",
    "plt.show()"
   ]
  },
  {
   "cell_type": "code",
   "execution_count": 29,
   "id": "b4a15e2b-e4e1-47bb-9027-3e207f2fd9ae",
   "metadata": {},
   "outputs": [
    {
     "data": {
      "text/plain": [
       "array([[0.91328672, 0.69975694],\n",
       "       [0.41313316, 0.20015468]])"
      ]
     },
     "execution_count": 29,
     "metadata": {},
     "output_type": "execute_result"
    }
   ],
   "source": [
    "phimc[:2]"
   ]
  },
  {
   "cell_type": "code",
   "execution_count": 31,
   "id": "a1dff8fa-81f4-4a50-9bd4-1b722cfb9d35",
   "metadata": {},
   "outputs": [],
   "source": [
    "n = 0"
   ]
  },
  {
   "cell_type": "code",
   "execution_count": 31,
   "id": "c7129f92-d096-41b9-b5c7-addae87188fa",
   "metadata": {},
   "outputs": [
    {
     "ename": "NameError",
     "evalue": "name 'phimc' is not defined",
     "output_type": "error",
     "traceback": [
      "\u001b[31m---------------------------------------------------------------------------\u001b[39m",
      "\u001b[31mNameError\u001b[39m                                 Traceback (most recent call last)",
      "\u001b[36mCell\u001b[39m\u001b[36m \u001b[39m\u001b[32mIn[31]\u001b[39m\u001b[32m, line 2\u001b[39m\n\u001b[32m      1\u001b[39m \u001b[38;5;66;03m#pts = points[:, (0, 1)]\u001b[39;00m\n\u001b[32m----> \u001b[39m\u001b[32m2\u001b[39m pts = \u001b[43mphimc\u001b[49m[:n]\n\u001b[32m      3\u001b[39m n += \u001b[32m1\u001b[39m\n\u001b[32m      4\u001b[39m \u001b[38;5;66;03m# Assume pts is a (N, 2) NumPy array with values in [0, 1]\u001b[39;00m\n",
      "\u001b[31mNameError\u001b[39m: name 'phimc' is not defined"
     ]
    }
   ],
   "source": [
    "#pts = points[:, (0, 1)]\n",
    "pts = phimc[:n]\n",
    "n += 1\n",
    "# Assume pts is a (N, 2) NumPy array with values in [0, 1]\n",
    "offsets = [-1, 0, 1]\n",
    "tiled_points = []\n",
    "\n",
    "for dx in offsets:\n",
    "    for dy in offsets:\n",
    "        shifted = pts + np.array([dx, dy])\n",
    "        tiled_points.append(shifted)\n",
    "\n",
    "tiled_points = np.vstack(tiled_points)\n",
    "\n",
    "# Plot\n",
    "fig, ax = plt.subplots(figsize=(16, 16))\n",
    "ax.scatter(tiled_points[:, 0], tiled_points[:, 1], s=5)\n",
    "\n",
    "# Set limits and aspect\n",
    "ax.set_xlim(-1, 2)\n",
    "ax.set_ylim(-1, 2)\n",
    "ax.set_aspect('equal')\n",
    "\n",
    "# Tile boundary lines\n",
    "for x in range(-1, 3):\n",
    "    ax.axvline(x, color='gray', linestyle='--', linewidth=0.8)\n",
    "for y in range(-1, 3):\n",
    "    ax.axhline(y, color='gray', linestyle='--', linewidth=0.8)\n",
    "\n",
    "# Add projections:\n",
    "tick_length = 0.02  # Length of the projection lines\n",
    "\n",
    "# Vertical ticks at bottom (y = -1)\n",
    "for x in tiled_points[:, 0]:\n",
    "    ax.plot([x, x], [-1, -1 + tick_length], color='black', linewidth=0.5)\n",
    "\n",
    "# Horizontal ticks at left (x = -1)\n",
    "for y in tiled_points[:, 1]:\n",
    "    ax.plot([-1, -1 + tick_length], [y, y], color='black', linewidth=0.5)\n",
    "\n",
    "plt.show()\n"
   ]
  },
  {
   "cell_type": "code",
   "execution_count": null,
   "id": "04e34913-4471-48a8-a533-11754adae5b4",
   "metadata": {},
   "outputs": [],
   "source": []
  },
  {
   "cell_type": "code",
   "execution_count": null,
   "id": "d53847be-e6e8-4d3d-951a-05863caf108b",
   "metadata": {},
   "outputs": [],
   "source": []
  }
 ],
 "metadata": {
  "kernelspec": {
   "display_name": "Python (tensor)",
   "language": "python",
   "name": "tensor"
  },
  "language_info": {
   "codemirror_mode": {
    "name": "ipython",
    "version": 3
   },
   "file_extension": ".py",
   "mimetype": "text/x-python",
   "name": "python",
   "nbconvert_exporter": "python",
   "pygments_lexer": "ipython3",
   "version": "3.12.3"
  }
 },
 "nbformat": 4,
 "nbformat_minor": 5
}
